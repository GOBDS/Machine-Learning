{
 "cells": [
  {
   "cell_type": "code",
   "execution_count": 6,
   "metadata": {},
   "outputs": [
    {
     "name": "stdout",
     "output_type": "stream",
     "text": [
      "[1]\n"
     ]
    }
   ],
   "source": [
    "from sklearn import tree\n",
    "\n",
    "# 0 = bumpy 1 = smooth\n",
    "features = [[140, 1], [130, 1], [150, 0], [170, 0]]\n",
    "\n",
    "# 0 = apple 1 = orange\n",
    "labels = [0, 0, 1, 1]\n",
    "\n",
    "# Tree classifier\n",
    "clf = tree.DecisionTreeClassifier()\n",
    "\n",
    "# Find patterns in data\n",
    "clf = clf.fit(features, labels)\n",
    "\n",
    "# Test\n",
    "print(clf.predict([[150, 0]]))\n",
    "\n"
   ]
  },
  {
   "cell_type": "code",
   "execution_count": null,
   "metadata": {},
   "outputs": [],
   "source": []
  }
 ],
 "metadata": {
  "kernelspec": {
   "display_name": "Python 3",
   "language": "python",
   "name": "python3"
  },
  "language_info": {
   "codemirror_mode": {
    "name": "ipython",
    "version": 3
   },
   "file_extension": ".py",
   "mimetype": "text/x-python",
   "name": "python",
   "nbconvert_exporter": "python",
   "pygments_lexer": "ipython3",
   "version": "3.6.5"
  }
 },
 "nbformat": 4,
 "nbformat_minor": 2
}
