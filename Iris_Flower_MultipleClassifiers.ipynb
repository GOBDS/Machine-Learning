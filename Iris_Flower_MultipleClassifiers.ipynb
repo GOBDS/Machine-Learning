{
 "cells": [
  {
   "cell_type": "code",
   "execution_count": 13,
   "metadata": {},
   "outputs": [
    {
     "name": "stdout",
     "output_type": "stream",
     "text": [
      "0.96\n",
      "0.9466666666666667\n"
     ]
    }
   ],
   "source": [
    "from sklearn import datasets\n",
    "from sklearn.cross_validation import train_test_split\n",
    "from sklearn import tree\n",
    "from sklearn.neighbors import KNeighborsClassifier\n",
    "from sklearn.metrics import accuracy_score\n",
    "\n",
    "iris = datasets.load_iris()\n",
    "\n",
    "# Classifiers can be seen as a function ->  f(x) = y\n",
    "X = iris.data\n",
    "Y = iris.target\n",
    "\n",
    "# Slipt test and train data\n",
    "X_train, X_test, Y_train, Y_test = train_test_split(X, Y, test_size = .5)\n",
    "\n",
    "# Decision tree classifier\n",
    "my_treeClassifier = tree.DecisionTreeClassifier()\n",
    "\n",
    "# Kneighbors classifier\n",
    "my_KNeighborsClassifier = KNeighborsClassifier()\n",
    "\n",
    "my_treeClassifier.fit(X_train, Y_train)\n",
    "my_KNeighborsClassifier.fit(X_train, Y_train)\n",
    "\n",
    "predictions1 = my_treeClassifier.predict(X_test)\n",
    "predictions2 = my_KNeighborsClassifier.predict(X_test)\n",
    "\n",
    "# Calculate accuracy\n",
    "print (accuracy_score(Y_test, predictions1))\n",
    "print (accuracy_score(Y_test, predictions2))\n",
    "\n"
   ]
  },
  {
   "cell_type": "code",
   "execution_count": null,
   "metadata": {},
   "outputs": [],
   "source": []
  }
 ],
 "metadata": {
  "kernelspec": {
   "display_name": "Python 3",
   "language": "python",
   "name": "python3"
  },
  "language_info": {
   "codemirror_mode": {
    "name": "ipython",
    "version": 3
   },
   "file_extension": ".py",
   "mimetype": "text/x-python",
   "name": "python",
   "nbconvert_exporter": "python",
   "pygments_lexer": "ipython3",
   "version": "3.6.5"
  }
 },
 "nbformat": 4,
 "nbformat_minor": 2
}
